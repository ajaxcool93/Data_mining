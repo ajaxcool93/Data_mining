{
 "cells": [
  {
   "cell_type": "markdown",
   "id": "81fe5a8a",
   "metadata": {},
   "source": [
    "# Business Intelligence Lab 03 : Clustering to find ikea optimal location\n",
    "\n",
    "## Name - Ajay D Nair h24ajana@du.se"
   ]
  },
  {
   "cell_type": "markdown",
   "id": "164f026c",
   "metadata": {},
   "source": [
    "## Loading all required functions"
   ]
  },
  {
   "cell_type": "code",
   "execution_count": 22,
   "id": "10012d60",
   "metadata": {},
   "outputs": [],
   "source": [
    "\n",
    "import pandas as pd\n",
    "import numpy as np\n",
    "from sklearn.preprocessing import StandardScaler\n",
    "from sklearn.decomposition import PCA\n",
    "from sklearn.cluster import KMeans\n",
    "import matplotlib.pyplot as plt\n",
    "import seaborn as sns\n",
    "import plotly.express as px\n"
   ]
  },
  {
   "cell_type": "markdown",
   "id": "7a4730d5",
   "metadata": {},
   "source": [
    "## Loading dataset"
   ]
  },
  {
   "cell_type": "code",
   "execution_count": 23,
   "id": "b66d3baf",
   "metadata": {},
   "outputs": [
    {
     "data": {
      "application/vnd.microsoft.datawrangler.viewer.v0+json": {
       "columns": [
        {
         "name": "index",
         "rawType": "int64",
         "type": "integer"
        },
        {
         "name": "Kommun_code",
         "rawType": "int64",
         "type": "integer"
        },
        {
         "name": "Year",
         "rawType": "int64",
         "type": "integer"
        },
        {
         "name": "Kommun_name",
         "rawType": "object",
         "type": "string"
        },
        {
         "name": "Revenue",
         "rawType": "int64",
         "type": "integer"
        },
        {
         "name": "Employee",
         "rawType": "int64",
         "type": "integer"
        },
        {
         "name": "Population",
         "rawType": "int64",
         "type": "integer"
        },
        {
         "name": "Population_University",
         "rawType": "int64",
         "type": "integer"
        },
        {
         "name": "Percent_University",
         "rawType": "float64",
         "type": "float"
        },
        {
         "name": "Productivity",
         "rawType": "float64",
         "type": "float"
        },
        {
         "name": "SalesIndex",
         "rawType": "float64",
         "type": "float"
        },
        {
         "name": "Infrast",
         "rawType": "int64",
         "type": "integer"
        },
        {
         "name": "Border",
         "rawType": "int64",
         "type": "integer"
        }
       ],
       "ref": "32730be6-2b04-4e06-aa25-768a694b8c33",
       "rows": [
        [
         "0",
         "2583",
         "2010",
         "Haparanda",
         "1078",
         "276",
         "10059",
         "719",
         "0.07147828",
         "195.74174",
         "111.075774",
         "0",
         "1"
        ],
        [
         "1",
         "880",
         "2010",
         "Kalmar",
         "3790",
         "1621",
         "62815",
         "8716",
         "0.13875667",
         "117.17365",
         "390.516869",
         "0",
         "0"
        ],
        [
         "2",
         "1780",
         "2010",
         "Karlstad",
         "4560",
         "1910",
         "85753",
         "13308",
         "0.15518991",
         "119.64794",
         "469.856708",
         "0",
         "0"
        ],
        [
         "3",
         "114",
         "2010",
         "Upplands Väsby",
         "1366",
         "708",
         "39289",
         "4419",
         "0.11247423",
         "96.69215",
         "140.750935",
         "0",
         "0"
        ],
        [
         "4",
         "115",
         "2010",
         "Vallentuna",
         "171",
         "99",
         "30114",
         "3843",
         "0.12761506",
         "86.56347",
         "17.619627",
         "0",
         "0"
        ]
       ],
       "shape": {
        "columns": 12,
        "rows": 5
       }
      },
      "text/html": [
       "<div>\n",
       "<style scoped>\n",
       "    .dataframe tbody tr th:only-of-type {\n",
       "        vertical-align: middle;\n",
       "    }\n",
       "\n",
       "    .dataframe tbody tr th {\n",
       "        vertical-align: top;\n",
       "    }\n",
       "\n",
       "    .dataframe thead th {\n",
       "        text-align: right;\n",
       "    }\n",
       "</style>\n",
       "<table border=\"1\" class=\"dataframe\">\n",
       "  <thead>\n",
       "    <tr style=\"text-align: right;\">\n",
       "      <th></th>\n",
       "      <th>Kommun_code</th>\n",
       "      <th>Year</th>\n",
       "      <th>Kommun_name</th>\n",
       "      <th>Revenue</th>\n",
       "      <th>Employee</th>\n",
       "      <th>Population</th>\n",
       "      <th>Population_University</th>\n",
       "      <th>Percent_University</th>\n",
       "      <th>Productivity</th>\n",
       "      <th>SalesIndex</th>\n",
       "      <th>Infrast</th>\n",
       "      <th>Border</th>\n",
       "    </tr>\n",
       "  </thead>\n",
       "  <tbody>\n",
       "    <tr>\n",
       "      <th>0</th>\n",
       "      <td>2583</td>\n",
       "      <td>2010</td>\n",
       "      <td>Haparanda</td>\n",
       "      <td>1078</td>\n",
       "      <td>276</td>\n",
       "      <td>10059</td>\n",
       "      <td>719</td>\n",
       "      <td>0.071478</td>\n",
       "      <td>195.74174</td>\n",
       "      <td>111.075774</td>\n",
       "      <td>0</td>\n",
       "      <td>1</td>\n",
       "    </tr>\n",
       "    <tr>\n",
       "      <th>1</th>\n",
       "      <td>880</td>\n",
       "      <td>2010</td>\n",
       "      <td>Kalmar</td>\n",
       "      <td>3790</td>\n",
       "      <td>1621</td>\n",
       "      <td>62815</td>\n",
       "      <td>8716</td>\n",
       "      <td>0.138757</td>\n",
       "      <td>117.17365</td>\n",
       "      <td>390.516869</td>\n",
       "      <td>0</td>\n",
       "      <td>0</td>\n",
       "    </tr>\n",
       "    <tr>\n",
       "      <th>2</th>\n",
       "      <td>1780</td>\n",
       "      <td>2010</td>\n",
       "      <td>Karlstad</td>\n",
       "      <td>4560</td>\n",
       "      <td>1910</td>\n",
       "      <td>85753</td>\n",
       "      <td>13308</td>\n",
       "      <td>0.155190</td>\n",
       "      <td>119.64794</td>\n",
       "      <td>469.856708</td>\n",
       "      <td>0</td>\n",
       "      <td>0</td>\n",
       "    </tr>\n",
       "    <tr>\n",
       "      <th>3</th>\n",
       "      <td>114</td>\n",
       "      <td>2010</td>\n",
       "      <td>Upplands Väsby</td>\n",
       "      <td>1366</td>\n",
       "      <td>708</td>\n",
       "      <td>39289</td>\n",
       "      <td>4419</td>\n",
       "      <td>0.112474</td>\n",
       "      <td>96.69215</td>\n",
       "      <td>140.750935</td>\n",
       "      <td>0</td>\n",
       "      <td>0</td>\n",
       "    </tr>\n",
       "    <tr>\n",
       "      <th>4</th>\n",
       "      <td>115</td>\n",
       "      <td>2010</td>\n",
       "      <td>Vallentuna</td>\n",
       "      <td>171</td>\n",
       "      <td>99</td>\n",
       "      <td>30114</td>\n",
       "      <td>3843</td>\n",
       "      <td>0.127615</td>\n",
       "      <td>86.56347</td>\n",
       "      <td>17.619627</td>\n",
       "      <td>0</td>\n",
       "      <td>0</td>\n",
       "    </tr>\n",
       "  </tbody>\n",
       "</table>\n",
       "</div>"
      ],
      "text/plain": [
       "   Kommun_code  Year     Kommun_name  Revenue  Employee  Population  \\\n",
       "0         2583  2010       Haparanda     1078       276       10059   \n",
       "1          880  2010          Kalmar     3790      1621       62815   \n",
       "2         1780  2010        Karlstad     4560      1910       85753   \n",
       "3          114  2010  Upplands Väsby     1366       708       39289   \n",
       "4          115  2010      Vallentuna      171        99       30114   \n",
       "\n",
       "   Population_University  Percent_University  Productivity  SalesIndex  \\\n",
       "0                    719            0.071478     195.74174  111.075774   \n",
       "1                   8716            0.138757     117.17365  390.516869   \n",
       "2                  13308            0.155190     119.64794  469.856708   \n",
       "3                   4419            0.112474      96.69215  140.750935   \n",
       "4                   3843            0.127615      86.56347   17.619627   \n",
       "\n",
       "   Infrast  Border  \n",
       "0        0       1  \n",
       "1        0       0  \n",
       "2        0       0  \n",
       "3        0       0  \n",
       "4        0       0  "
      ]
     },
     "execution_count": 23,
     "metadata": {},
     "output_type": "execute_result"
    }
   ],
   "source": [
    "df = pd.read_csv(\"C:/Users/ajaxc/Downloads/ikea_kommun_data.txt\", delimiter='\\t', encoding='latin1')\n",
    "df.head()"
   ]
  },
  {
   "cell_type": "markdown",
   "id": "eb31bd83",
   "metadata": {},
   "source": [
    "## Choosing columns and normalising"
   ]
  },
  {
   "cell_type": "code",
   "execution_count": 24,
   "id": "b8442bb9",
   "metadata": {},
   "outputs": [
    {
     "data": {
      "application/vnd.microsoft.datawrangler.viewer.v0+json": {
       "columns": [
        {
         "name": "index",
         "rawType": "int64",
         "type": "integer"
        },
        {
         "name": "Kommun_code",
         "rawType": "bool",
         "type": "boolean"
        },
        {
         "name": "Year",
         "rawType": "bool",
         "type": "boolean"
        },
        {
         "name": "Kommun_name",
         "rawType": "bool",
         "type": "boolean"
        },
        {
         "name": "Revenue",
         "rawType": "bool",
         "type": "boolean"
        },
        {
         "name": "Employee",
         "rawType": "bool",
         "type": "boolean"
        },
        {
         "name": "Population",
         "rawType": "bool",
         "type": "boolean"
        },
        {
         "name": "Population_University",
         "rawType": "bool",
         "type": "boolean"
        },
        {
         "name": "Percent_University",
         "rawType": "bool",
         "type": "boolean"
        },
        {
         "name": "Productivity",
         "rawType": "bool",
         "type": "boolean"
        },
        {
         "name": "SalesIndex",
         "rawType": "bool",
         "type": "boolean"
        },
        {
         "name": "Infrast",
         "rawType": "bool",
         "type": "boolean"
        },
        {
         "name": "Border",
         "rawType": "bool",
         "type": "boolean"
        }
       ],
       "ref": "b58d6f72-97e0-4d33-b9d5-367d5f7eb6c0",
       "rows": [
        [
         "0",
         "False",
         "False",
         "False",
         "False",
         "False",
         "False",
         "False",
         "False",
         "False",
         "False",
         "False",
         "False"
        ],
        [
         "1",
         "False",
         "False",
         "False",
         "False",
         "False",
         "False",
         "False",
         "False",
         "False",
         "False",
         "False",
         "False"
        ],
        [
         "2",
         "False",
         "False",
         "False",
         "False",
         "False",
         "False",
         "False",
         "False",
         "False",
         "False",
         "False",
         "False"
        ],
        [
         "3",
         "False",
         "False",
         "False",
         "False",
         "False",
         "False",
         "False",
         "False",
         "False",
         "False",
         "False",
         "False"
        ],
        [
         "4",
         "False",
         "False",
         "False",
         "False",
         "False",
         "False",
         "False",
         "False",
         "False",
         "False",
         "False",
         "False"
        ],
        [
         "5",
         "False",
         "False",
         "False",
         "False",
         "False",
         "False",
         "False",
         "False",
         "False",
         "False",
         "False",
         "False"
        ],
        [
         "6",
         "False",
         "False",
         "False",
         "False",
         "False",
         "False",
         "False",
         "False",
         "False",
         "False",
         "False",
         "False"
        ],
        [
         "7",
         "False",
         "False",
         "False",
         "False",
         "False",
         "False",
         "False",
         "False",
         "False",
         "False",
         "False",
         "False"
        ],
        [
         "8",
         "False",
         "False",
         "False",
         "False",
         "False",
         "False",
         "False",
         "False",
         "False",
         "False",
         "False",
         "False"
        ],
        [
         "9",
         "False",
         "False",
         "False",
         "False",
         "False",
         "False",
         "False",
         "False",
         "False",
         "False",
         "False",
         "False"
        ],
        [
         "10",
         "False",
         "False",
         "False",
         "False",
         "False",
         "False",
         "False",
         "False",
         "False",
         "False",
         "False",
         "False"
        ],
        [
         "11",
         "False",
         "False",
         "False",
         "False",
         "False",
         "False",
         "False",
         "False",
         "False",
         "False",
         "False",
         "False"
        ],
        [
         "12",
         "False",
         "False",
         "False",
         "False",
         "False",
         "False",
         "False",
         "False",
         "False",
         "False",
         "False",
         "False"
        ],
        [
         "13",
         "False",
         "False",
         "False",
         "False",
         "False",
         "False",
         "False",
         "False",
         "False",
         "False",
         "False",
         "False"
        ],
        [
         "14",
         "False",
         "False",
         "False",
         "False",
         "False",
         "False",
         "False",
         "False",
         "False",
         "False",
         "False",
         "False"
        ],
        [
         "15",
         "False",
         "False",
         "False",
         "False",
         "False",
         "False",
         "False",
         "False",
         "False",
         "False",
         "False",
         "False"
        ],
        [
         "16",
         "False",
         "False",
         "False",
         "False",
         "False",
         "False",
         "False",
         "False",
         "False",
         "False",
         "False",
         "False"
        ],
        [
         "17",
         "False",
         "False",
         "False",
         "False",
         "False",
         "False",
         "False",
         "False",
         "False",
         "False",
         "False",
         "False"
        ],
        [
         "18",
         "False",
         "False",
         "False",
         "False",
         "False",
         "False",
         "False",
         "False",
         "False",
         "False",
         "False",
         "False"
        ],
        [
         "19",
         "False",
         "False",
         "False",
         "False",
         "False",
         "False",
         "False",
         "False",
         "False",
         "False",
         "False",
         "False"
        ],
        [
         "20",
         "False",
         "False",
         "False",
         "False",
         "False",
         "False",
         "False",
         "False",
         "False",
         "False",
         "False",
         "False"
        ],
        [
         "21",
         "False",
         "False",
         "False",
         "False",
         "False",
         "False",
         "False",
         "False",
         "False",
         "False",
         "False",
         "False"
        ],
        [
         "22",
         "False",
         "False",
         "False",
         "False",
         "False",
         "False",
         "False",
         "False",
         "False",
         "False",
         "False",
         "False"
        ],
        [
         "23",
         "False",
         "False",
         "False",
         "False",
         "False",
         "False",
         "False",
         "False",
         "False",
         "False",
         "False",
         "False"
        ],
        [
         "24",
         "False",
         "False",
         "False",
         "False",
         "False",
         "False",
         "False",
         "False",
         "False",
         "False",
         "False",
         "False"
        ],
        [
         "25",
         "False",
         "False",
         "False",
         "False",
         "False",
         "False",
         "False",
         "False",
         "False",
         "False",
         "False",
         "False"
        ],
        [
         "26",
         "False",
         "False",
         "False",
         "False",
         "False",
         "False",
         "False",
         "False",
         "False",
         "False",
         "False",
         "False"
        ],
        [
         "27",
         "False",
         "False",
         "False",
         "False",
         "False",
         "False",
         "False",
         "False",
         "False",
         "False",
         "False",
         "False"
        ],
        [
         "28",
         "False",
         "False",
         "False",
         "False",
         "False",
         "False",
         "False",
         "False",
         "False",
         "False",
         "False",
         "False"
        ],
        [
         "29",
         "False",
         "False",
         "False",
         "False",
         "False",
         "False",
         "False",
         "False",
         "False",
         "False",
         "False",
         "False"
        ],
        [
         "30",
         "False",
         "False",
         "False",
         "False",
         "False",
         "False",
         "False",
         "False",
         "False",
         "False",
         "False",
         "False"
        ],
        [
         "31",
         "False",
         "False",
         "False",
         "False",
         "False",
         "False",
         "False",
         "False",
         "False",
         "False",
         "False",
         "False"
        ],
        [
         "32",
         "False",
         "False",
         "False",
         "False",
         "False",
         "False",
         "False",
         "False",
         "False",
         "False",
         "False",
         "False"
        ],
        [
         "33",
         "False",
         "False",
         "False",
         "False",
         "False",
         "False",
         "False",
         "False",
         "False",
         "False",
         "False",
         "False"
        ],
        [
         "34",
         "False",
         "False",
         "False",
         "False",
         "False",
         "False",
         "False",
         "False",
         "False",
         "False",
         "False",
         "False"
        ],
        [
         "35",
         "False",
         "False",
         "False",
         "False",
         "False",
         "False",
         "False",
         "False",
         "False",
         "False",
         "False",
         "False"
        ],
        [
         "36",
         "False",
         "False",
         "False",
         "False",
         "False",
         "False",
         "False",
         "False",
         "False",
         "False",
         "False",
         "False"
        ],
        [
         "37",
         "False",
         "False",
         "False",
         "False",
         "False",
         "False",
         "False",
         "False",
         "False",
         "False",
         "False",
         "False"
        ],
        [
         "38",
         "False",
         "False",
         "False",
         "False",
         "False",
         "False",
         "False",
         "False",
         "False",
         "False",
         "False",
         "False"
        ],
        [
         "39",
         "False",
         "False",
         "False",
         "False",
         "False",
         "False",
         "False",
         "False",
         "False",
         "False",
         "False",
         "False"
        ],
        [
         "40",
         "False",
         "False",
         "False",
         "False",
         "False",
         "False",
         "False",
         "False",
         "False",
         "False",
         "False",
         "False"
        ],
        [
         "41",
         "False",
         "False",
         "False",
         "False",
         "False",
         "False",
         "False",
         "False",
         "False",
         "False",
         "False",
         "False"
        ],
        [
         "42",
         "False",
         "False",
         "False",
         "False",
         "False",
         "False",
         "False",
         "False",
         "False",
         "False",
         "False",
         "False"
        ],
        [
         "43",
         "False",
         "False",
         "False",
         "False",
         "False",
         "False",
         "False",
         "False",
         "False",
         "False",
         "False",
         "False"
        ],
        [
         "44",
         "False",
         "False",
         "False",
         "False",
         "False",
         "False",
         "False",
         "False",
         "False",
         "False",
         "False",
         "False"
        ],
        [
         "45",
         "False",
         "False",
         "False",
         "False",
         "False",
         "False",
         "False",
         "False",
         "False",
         "False",
         "False",
         "False"
        ],
        [
         "46",
         "False",
         "False",
         "False",
         "False",
         "False",
         "False",
         "False",
         "False",
         "False",
         "False",
         "False",
         "False"
        ],
        [
         "47",
         "False",
         "False",
         "False",
         "False",
         "False",
         "False",
         "False",
         "False",
         "False",
         "False",
         "False",
         "False"
        ],
        [
         "48",
         "False",
         "False",
         "False",
         "False",
         "False",
         "False",
         "False",
         "False",
         "False",
         "False",
         "False",
         "False"
        ],
        [
         "49",
         "False",
         "False",
         "False",
         "False",
         "False",
         "False",
         "False",
         "False",
         "False",
         "False",
         "False",
         "False"
        ]
       ],
       "shape": {
        "columns": 12,
        "rows": 207
       }
      },
      "text/html": [
       "<div>\n",
       "<style scoped>\n",
       "    .dataframe tbody tr th:only-of-type {\n",
       "        vertical-align: middle;\n",
       "    }\n",
       "\n",
       "    .dataframe tbody tr th {\n",
       "        vertical-align: top;\n",
       "    }\n",
       "\n",
       "    .dataframe thead th {\n",
       "        text-align: right;\n",
       "    }\n",
       "</style>\n",
       "<table border=\"1\" class=\"dataframe\">\n",
       "  <thead>\n",
       "    <tr style=\"text-align: right;\">\n",
       "      <th></th>\n",
       "      <th>Kommun_code</th>\n",
       "      <th>Year</th>\n",
       "      <th>Kommun_name</th>\n",
       "      <th>Revenue</th>\n",
       "      <th>Employee</th>\n",
       "      <th>Population</th>\n",
       "      <th>Population_University</th>\n",
       "      <th>Percent_University</th>\n",
       "      <th>Productivity</th>\n",
       "      <th>SalesIndex</th>\n",
       "      <th>Infrast</th>\n",
       "      <th>Border</th>\n",
       "    </tr>\n",
       "  </thead>\n",
       "  <tbody>\n",
       "    <tr>\n",
       "      <th>0</th>\n",
       "      <td>False</td>\n",
       "      <td>False</td>\n",
       "      <td>False</td>\n",
       "      <td>False</td>\n",
       "      <td>False</td>\n",
       "      <td>False</td>\n",
       "      <td>False</td>\n",
       "      <td>False</td>\n",
       "      <td>False</td>\n",
       "      <td>False</td>\n",
       "      <td>False</td>\n",
       "      <td>False</td>\n",
       "    </tr>\n",
       "    <tr>\n",
       "      <th>1</th>\n",
       "      <td>False</td>\n",
       "      <td>False</td>\n",
       "      <td>False</td>\n",
       "      <td>False</td>\n",
       "      <td>False</td>\n",
       "      <td>False</td>\n",
       "      <td>False</td>\n",
       "      <td>False</td>\n",
       "      <td>False</td>\n",
       "      <td>False</td>\n",
       "      <td>False</td>\n",
       "      <td>False</td>\n",
       "    </tr>\n",
       "    <tr>\n",
       "      <th>2</th>\n",
       "      <td>False</td>\n",
       "      <td>False</td>\n",
       "      <td>False</td>\n",
       "      <td>False</td>\n",
       "      <td>False</td>\n",
       "      <td>False</td>\n",
       "      <td>False</td>\n",
       "      <td>False</td>\n",
       "      <td>False</td>\n",
       "      <td>False</td>\n",
       "      <td>False</td>\n",
       "      <td>False</td>\n",
       "    </tr>\n",
       "    <tr>\n",
       "      <th>3</th>\n",
       "      <td>False</td>\n",
       "      <td>False</td>\n",
       "      <td>False</td>\n",
       "      <td>False</td>\n",
       "      <td>False</td>\n",
       "      <td>False</td>\n",
       "      <td>False</td>\n",
       "      <td>False</td>\n",
       "      <td>False</td>\n",
       "      <td>False</td>\n",
       "      <td>False</td>\n",
       "      <td>False</td>\n",
       "    </tr>\n",
       "    <tr>\n",
       "      <th>4</th>\n",
       "      <td>False</td>\n",
       "      <td>False</td>\n",
       "      <td>False</td>\n",
       "      <td>False</td>\n",
       "      <td>False</td>\n",
       "      <td>False</td>\n",
       "      <td>False</td>\n",
       "      <td>False</td>\n",
       "      <td>False</td>\n",
       "      <td>False</td>\n",
       "      <td>False</td>\n",
       "      <td>False</td>\n",
       "    </tr>\n",
       "    <tr>\n",
       "      <th>...</th>\n",
       "      <td>...</td>\n",
       "      <td>...</td>\n",
       "      <td>...</td>\n",
       "      <td>...</td>\n",
       "      <td>...</td>\n",
       "      <td>...</td>\n",
       "      <td>...</td>\n",
       "      <td>...</td>\n",
       "      <td>...</td>\n",
       "      <td>...</td>\n",
       "      <td>...</td>\n",
       "      <td>...</td>\n",
       "    </tr>\n",
       "    <tr>\n",
       "      <th>202</th>\n",
       "      <td>False</td>\n",
       "      <td>False</td>\n",
       "      <td>False</td>\n",
       "      <td>False</td>\n",
       "      <td>False</td>\n",
       "      <td>False</td>\n",
       "      <td>False</td>\n",
       "      <td>False</td>\n",
       "      <td>False</td>\n",
       "      <td>False</td>\n",
       "      <td>False</td>\n",
       "      <td>False</td>\n",
       "    </tr>\n",
       "    <tr>\n",
       "      <th>203</th>\n",
       "      <td>False</td>\n",
       "      <td>False</td>\n",
       "      <td>False</td>\n",
       "      <td>False</td>\n",
       "      <td>False</td>\n",
       "      <td>False</td>\n",
       "      <td>False</td>\n",
       "      <td>False</td>\n",
       "      <td>False</td>\n",
       "      <td>False</td>\n",
       "      <td>False</td>\n",
       "      <td>False</td>\n",
       "    </tr>\n",
       "    <tr>\n",
       "      <th>204</th>\n",
       "      <td>False</td>\n",
       "      <td>False</td>\n",
       "      <td>False</td>\n",
       "      <td>False</td>\n",
       "      <td>False</td>\n",
       "      <td>False</td>\n",
       "      <td>False</td>\n",
       "      <td>False</td>\n",
       "      <td>False</td>\n",
       "      <td>False</td>\n",
       "      <td>False</td>\n",
       "      <td>False</td>\n",
       "    </tr>\n",
       "    <tr>\n",
       "      <th>205</th>\n",
       "      <td>False</td>\n",
       "      <td>False</td>\n",
       "      <td>False</td>\n",
       "      <td>False</td>\n",
       "      <td>False</td>\n",
       "      <td>False</td>\n",
       "      <td>False</td>\n",
       "      <td>False</td>\n",
       "      <td>False</td>\n",
       "      <td>False</td>\n",
       "      <td>False</td>\n",
       "      <td>False</td>\n",
       "    </tr>\n",
       "    <tr>\n",
       "      <th>206</th>\n",
       "      <td>False</td>\n",
       "      <td>False</td>\n",
       "      <td>False</td>\n",
       "      <td>False</td>\n",
       "      <td>False</td>\n",
       "      <td>False</td>\n",
       "      <td>False</td>\n",
       "      <td>False</td>\n",
       "      <td>False</td>\n",
       "      <td>False</td>\n",
       "      <td>False</td>\n",
       "      <td>False</td>\n",
       "    </tr>\n",
       "  </tbody>\n",
       "</table>\n",
       "<p>207 rows × 12 columns</p>\n",
       "</div>"
      ],
      "text/plain": [
       "     Kommun_code   Year  Kommun_name  Revenue  Employee  Population  \\\n",
       "0          False  False        False    False     False       False   \n",
       "1          False  False        False    False     False       False   \n",
       "2          False  False        False    False     False       False   \n",
       "3          False  False        False    False     False       False   \n",
       "4          False  False        False    False     False       False   \n",
       "..           ...    ...          ...      ...       ...         ...   \n",
       "202        False  False        False    False     False       False   \n",
       "203        False  False        False    False     False       False   \n",
       "204        False  False        False    False     False       False   \n",
       "205        False  False        False    False     False       False   \n",
       "206        False  False        False    False     False       False   \n",
       "\n",
       "     Population_University  Percent_University  Productivity  SalesIndex  \\\n",
       "0                    False               False         False       False   \n",
       "1                    False               False         False       False   \n",
       "2                    False               False         False       False   \n",
       "3                    False               False         False       False   \n",
       "4                    False               False         False       False   \n",
       "..                     ...                 ...           ...         ...   \n",
       "202                  False               False         False       False   \n",
       "203                  False               False         False       False   \n",
       "204                  False               False         False       False   \n",
       "205                  False               False         False       False   \n",
       "206                  False               False         False       False   \n",
       "\n",
       "     Infrast  Border  \n",
       "0      False   False  \n",
       "1      False   False  \n",
       "2      False   False  \n",
       "3      False   False  \n",
       "4      False   False  \n",
       "..       ...     ...  \n",
       "202    False   False  \n",
       "203    False   False  \n",
       "204    False   False  \n",
       "205    False   False  \n",
       "206    False   False  \n",
       "\n",
       "[207 rows x 12 columns]"
      ]
     },
     "execution_count": 24,
     "metadata": {},
     "output_type": "execute_result"
    }
   ],
   "source": [
    "## checking for null values\n",
    "df.isnull()"
   ]
  },
  {
   "cell_type": "code",
   "execution_count": 25,
   "id": "82f17414",
   "metadata": {},
   "outputs": [
    {
     "data": {
      "application/vnd.microsoft.datawrangler.viewer.v0+json": {
       "columns": [
        {
         "name": "index",
         "rawType": "object",
         "type": "string"
        },
        {
         "name": "Kommun_code",
         "rawType": "float64",
         "type": "float"
        },
        {
         "name": "Year",
         "rawType": "float64",
         "type": "float"
        },
        {
         "name": "Revenue",
         "rawType": "float64",
         "type": "float"
        },
        {
         "name": "Employee",
         "rawType": "float64",
         "type": "float"
        },
        {
         "name": "Population",
         "rawType": "float64",
         "type": "float"
        },
        {
         "name": "Population_University",
         "rawType": "float64",
         "type": "float"
        },
        {
         "name": "Percent_University",
         "rawType": "float64",
         "type": "float"
        },
        {
         "name": "Productivity",
         "rawType": "float64",
         "type": "float"
        },
        {
         "name": "SalesIndex",
         "rawType": "float64",
         "type": "float"
        },
        {
         "name": "Infrast",
         "rawType": "float64",
         "type": "float"
        },
        {
         "name": "Border",
         "rawType": "float64",
         "type": "float"
        }
       ],
       "ref": "843238c2-7e77-4063-9784-af76308533a2",
       "rows": [
        [
         "count",
         "207.0",
         "207.0",
         "207.0",
         "207.0",
         "207.0",
         "207.0",
         "207.0",
         "207.0",
         "207.0",
         "207.0",
         "207.0"
        ],
        [
         "mean",
         "1049.7342995169083",
         "2010.0",
         "1031.8019323671497",
         "523.0386473429952",
         "34543.3961352657",
         "4660.106280193237",
         "0.09746109154589373",
         "91.4540024637681",
         "106.31558320289854",
         "0.04830917874396135",
         "0.03864734299516908"
        ],
        [
         "std",
         "541.0654554846419",
         "0.0",
         "2694.8895494768876",
         "1463.194426772453",
         "66882.49974037996",
         "14403.495784155444",
         "0.04075996060773753",
         "27.960866648379643",
         "277.67805549556437",
         "0.21493855763012462",
         "0.1932202985381658"
        ],
        [
         "min",
         "114.0",
         "2010.0",
         "11.0",
         "2.0",
         "3672.0",
         "174.0",
         "0.04614161",
         "19.89888",
         "1.133426",
         "0.0",
         "0.0"
        ],
        [
         "25%",
         "582.5",
         "2010.0",
         "110.0",
         "64.5",
         "10785.5",
         "788.5",
         "0.069015015",
         "74.70091",
         "11.334262500000001",
         "0.0",
         "0.0"
        ],
        [
         "50%",
         "1263.0",
         "2010.0",
         "252.0",
         "142.0",
         "16515.0",
         "1598.0",
         "0.08660131",
         "90.45705",
         "25.965765",
         "0.0",
         "0.0"
        ],
        [
         "75%",
         "1461.5",
         "2010.0",
         "825.5",
         "435.0",
         "37922.0",
         "4073.5",
         "0.112084865",
         "104.008805",
         "85.0584895",
         "0.0",
         "0.0"
        ],
        [
         "max",
         "2583.0",
         "2010.0",
         "32897.0",
         "18795.0",
         "847073.0",
         "191585.0",
         "0.26964571",
         "275.63633",
         "3389.665819",
         "1.0",
         "1.0"
        ]
       ],
       "shape": {
        "columns": 11,
        "rows": 8
       }
      },
      "text/html": [
       "<div>\n",
       "<style scoped>\n",
       "    .dataframe tbody tr th:only-of-type {\n",
       "        vertical-align: middle;\n",
       "    }\n",
       "\n",
       "    .dataframe tbody tr th {\n",
       "        vertical-align: top;\n",
       "    }\n",
       "\n",
       "    .dataframe thead th {\n",
       "        text-align: right;\n",
       "    }\n",
       "</style>\n",
       "<table border=\"1\" class=\"dataframe\">\n",
       "  <thead>\n",
       "    <tr style=\"text-align: right;\">\n",
       "      <th></th>\n",
       "      <th>Kommun_code</th>\n",
       "      <th>Year</th>\n",
       "      <th>Revenue</th>\n",
       "      <th>Employee</th>\n",
       "      <th>Population</th>\n",
       "      <th>Population_University</th>\n",
       "      <th>Percent_University</th>\n",
       "      <th>Productivity</th>\n",
       "      <th>SalesIndex</th>\n",
       "      <th>Infrast</th>\n",
       "      <th>Border</th>\n",
       "    </tr>\n",
       "  </thead>\n",
       "  <tbody>\n",
       "    <tr>\n",
       "      <th>count</th>\n",
       "      <td>207.000000</td>\n",
       "      <td>207.0</td>\n",
       "      <td>207.000000</td>\n",
       "      <td>207.000000</td>\n",
       "      <td>207.000000</td>\n",
       "      <td>207.000000</td>\n",
       "      <td>207.000000</td>\n",
       "      <td>207.000000</td>\n",
       "      <td>207.000000</td>\n",
       "      <td>207.000000</td>\n",
       "      <td>207.000000</td>\n",
       "    </tr>\n",
       "    <tr>\n",
       "      <th>mean</th>\n",
       "      <td>1049.734300</td>\n",
       "      <td>2010.0</td>\n",
       "      <td>1031.801932</td>\n",
       "      <td>523.038647</td>\n",
       "      <td>34543.396135</td>\n",
       "      <td>4660.106280</td>\n",
       "      <td>0.097461</td>\n",
       "      <td>91.454002</td>\n",
       "      <td>106.315583</td>\n",
       "      <td>0.048309</td>\n",
       "      <td>0.038647</td>\n",
       "    </tr>\n",
       "    <tr>\n",
       "      <th>std</th>\n",
       "      <td>541.065455</td>\n",
       "      <td>0.0</td>\n",
       "      <td>2694.889549</td>\n",
       "      <td>1463.194427</td>\n",
       "      <td>66882.499740</td>\n",
       "      <td>14403.495784</td>\n",
       "      <td>0.040760</td>\n",
       "      <td>27.960867</td>\n",
       "      <td>277.678055</td>\n",
       "      <td>0.214939</td>\n",
       "      <td>0.193220</td>\n",
       "    </tr>\n",
       "    <tr>\n",
       "      <th>min</th>\n",
       "      <td>114.000000</td>\n",
       "      <td>2010.0</td>\n",
       "      <td>11.000000</td>\n",
       "      <td>2.000000</td>\n",
       "      <td>3672.000000</td>\n",
       "      <td>174.000000</td>\n",
       "      <td>0.046142</td>\n",
       "      <td>19.898880</td>\n",
       "      <td>1.133426</td>\n",
       "      <td>0.000000</td>\n",
       "      <td>0.000000</td>\n",
       "    </tr>\n",
       "    <tr>\n",
       "      <th>25%</th>\n",
       "      <td>582.500000</td>\n",
       "      <td>2010.0</td>\n",
       "      <td>110.000000</td>\n",
       "      <td>64.500000</td>\n",
       "      <td>10785.500000</td>\n",
       "      <td>788.500000</td>\n",
       "      <td>0.069015</td>\n",
       "      <td>74.700910</td>\n",
       "      <td>11.334263</td>\n",
       "      <td>0.000000</td>\n",
       "      <td>0.000000</td>\n",
       "    </tr>\n",
       "    <tr>\n",
       "      <th>50%</th>\n",
       "      <td>1263.000000</td>\n",
       "      <td>2010.0</td>\n",
       "      <td>252.000000</td>\n",
       "      <td>142.000000</td>\n",
       "      <td>16515.000000</td>\n",
       "      <td>1598.000000</td>\n",
       "      <td>0.086601</td>\n",
       "      <td>90.457050</td>\n",
       "      <td>25.965765</td>\n",
       "      <td>0.000000</td>\n",
       "      <td>0.000000</td>\n",
       "    </tr>\n",
       "    <tr>\n",
       "      <th>75%</th>\n",
       "      <td>1461.500000</td>\n",
       "      <td>2010.0</td>\n",
       "      <td>825.500000</td>\n",
       "      <td>435.000000</td>\n",
       "      <td>37922.000000</td>\n",
       "      <td>4073.500000</td>\n",
       "      <td>0.112085</td>\n",
       "      <td>104.008805</td>\n",
       "      <td>85.058489</td>\n",
       "      <td>0.000000</td>\n",
       "      <td>0.000000</td>\n",
       "    </tr>\n",
       "    <tr>\n",
       "      <th>max</th>\n",
       "      <td>2583.000000</td>\n",
       "      <td>2010.0</td>\n",
       "      <td>32897.000000</td>\n",
       "      <td>18795.000000</td>\n",
       "      <td>847073.000000</td>\n",
       "      <td>191585.000000</td>\n",
       "      <td>0.269646</td>\n",
       "      <td>275.636330</td>\n",
       "      <td>3389.665819</td>\n",
       "      <td>1.000000</td>\n",
       "      <td>1.000000</td>\n",
       "    </tr>\n",
       "  </tbody>\n",
       "</table>\n",
       "</div>"
      ],
      "text/plain": [
       "       Kommun_code    Year       Revenue      Employee     Population  \\\n",
       "count   207.000000   207.0    207.000000    207.000000     207.000000   \n",
       "mean   1049.734300  2010.0   1031.801932    523.038647   34543.396135   \n",
       "std     541.065455     0.0   2694.889549   1463.194427   66882.499740   \n",
       "min     114.000000  2010.0     11.000000      2.000000    3672.000000   \n",
       "25%     582.500000  2010.0    110.000000     64.500000   10785.500000   \n",
       "50%    1263.000000  2010.0    252.000000    142.000000   16515.000000   \n",
       "75%    1461.500000  2010.0    825.500000    435.000000   37922.000000   \n",
       "max    2583.000000  2010.0  32897.000000  18795.000000  847073.000000   \n",
       "\n",
       "       Population_University  Percent_University  Productivity   SalesIndex  \\\n",
       "count             207.000000          207.000000    207.000000   207.000000   \n",
       "mean             4660.106280            0.097461     91.454002   106.315583   \n",
       "std             14403.495784            0.040760     27.960867   277.678055   \n",
       "min               174.000000            0.046142     19.898880     1.133426   \n",
       "25%               788.500000            0.069015     74.700910    11.334263   \n",
       "50%              1598.000000            0.086601     90.457050    25.965765   \n",
       "75%              4073.500000            0.112085    104.008805    85.058489   \n",
       "max            191585.000000            0.269646    275.636330  3389.665819   \n",
       "\n",
       "          Infrast      Border  \n",
       "count  207.000000  207.000000  \n",
       "mean     0.048309    0.038647  \n",
       "std      0.214939    0.193220  \n",
       "min      0.000000    0.000000  \n",
       "25%      0.000000    0.000000  \n",
       "50%      0.000000    0.000000  \n",
       "75%      0.000000    0.000000  \n",
       "max      1.000000    1.000000  "
      ]
     },
     "execution_count": 25,
     "metadata": {},
     "output_type": "execute_result"
    }
   ],
   "source": [
    "df.describe()"
   ]
  },
  {
   "cell_type": "code",
   "execution_count": 26,
   "id": "bf3c04d8",
   "metadata": {},
   "outputs": [
    {
     "data": {
      "application/vnd.microsoft.datawrangler.viewer.v0+json": {
       "columns": [
        {
         "name": "index",
         "rawType": "int64",
         "type": "integer"
        },
        {
         "name": "Revenue",
         "rawType": "int64",
         "type": "integer"
        },
        {
         "name": "Population",
         "rawType": "int64",
         "type": "integer"
        },
        {
         "name": "Population_University",
         "rawType": "int64",
         "type": "integer"
        },
        {
         "name": "Infrast",
         "rawType": "int64",
         "type": "integer"
        },
        {
         "name": "Border",
         "rawType": "int64",
         "type": "integer"
        }
       ],
       "ref": "277c576e-dac1-4b45-b3ed-5974e90b54b4",
       "rows": [
        [
         "0",
         "1078",
         "10059",
         "719",
         "0",
         "1"
        ],
        [
         "1",
         "3790",
         "62815",
         "8716",
         "0",
         "0"
        ],
        [
         "2",
         "4560",
         "85753",
         "13308",
         "0",
         "0"
        ],
        [
         "3",
         "1366",
         "39289",
         "4419",
         "0",
         "0"
        ],
        [
         "4",
         "171",
         "30114",
         "3843",
         "0",
         "0"
        ]
       ],
       "shape": {
        "columns": 5,
        "rows": 5
       }
      },
      "text/html": [
       "<div>\n",
       "<style scoped>\n",
       "    .dataframe tbody tr th:only-of-type {\n",
       "        vertical-align: middle;\n",
       "    }\n",
       "\n",
       "    .dataframe tbody tr th {\n",
       "        vertical-align: top;\n",
       "    }\n",
       "\n",
       "    .dataframe thead th {\n",
       "        text-align: right;\n",
       "    }\n",
       "</style>\n",
       "<table border=\"1\" class=\"dataframe\">\n",
       "  <thead>\n",
       "    <tr style=\"text-align: right;\">\n",
       "      <th></th>\n",
       "      <th>Revenue</th>\n",
       "      <th>Population</th>\n",
       "      <th>Population_University</th>\n",
       "      <th>Infrast</th>\n",
       "      <th>Border</th>\n",
       "    </tr>\n",
       "  </thead>\n",
       "  <tbody>\n",
       "    <tr>\n",
       "      <th>0</th>\n",
       "      <td>1078</td>\n",
       "      <td>10059</td>\n",
       "      <td>719</td>\n",
       "      <td>0</td>\n",
       "      <td>1</td>\n",
       "    </tr>\n",
       "    <tr>\n",
       "      <th>1</th>\n",
       "      <td>3790</td>\n",
       "      <td>62815</td>\n",
       "      <td>8716</td>\n",
       "      <td>0</td>\n",
       "      <td>0</td>\n",
       "    </tr>\n",
       "    <tr>\n",
       "      <th>2</th>\n",
       "      <td>4560</td>\n",
       "      <td>85753</td>\n",
       "      <td>13308</td>\n",
       "      <td>0</td>\n",
       "      <td>0</td>\n",
       "    </tr>\n",
       "    <tr>\n",
       "      <th>3</th>\n",
       "      <td>1366</td>\n",
       "      <td>39289</td>\n",
       "      <td>4419</td>\n",
       "      <td>0</td>\n",
       "      <td>0</td>\n",
       "    </tr>\n",
       "    <tr>\n",
       "      <th>4</th>\n",
       "      <td>171</td>\n",
       "      <td>30114</td>\n",
       "      <td>3843</td>\n",
       "      <td>0</td>\n",
       "      <td>0</td>\n",
       "    </tr>\n",
       "  </tbody>\n",
       "</table>\n",
       "</div>"
      ],
      "text/plain": [
       "   Revenue  Population  Population_University  Infrast  Border\n",
       "0     1078       10059                    719        0       1\n",
       "1     3790       62815                   8716        0       0\n",
       "2     4560       85753                  13308        0       0\n",
       "3     1366       39289                   4419        0       0\n",
       "4      171       30114                   3843        0       0"
      ]
     },
     "execution_count": 26,
     "metadata": {},
     "output_type": "execute_result"
    }
   ],
   "source": [
    "# make df with only numerical columns which matter\n",
    "df_numerical = df[[ 'Revenue','Population', 'Population_University', 'Infrast','Border']]\n",
    "df_numerical.head()"
   ]
  },
  {
   "cell_type": "code",
   "execution_count": 27,
   "id": "4b9d29ac",
   "metadata": {},
   "outputs": [
    {
     "data": {
      "image/png": "[encoded data removed]",
      "text/plain": [
       "<Figure size 1200x1000 with 2 Axes>"
      ]
     },
     "metadata": {},
     "output_type": "display_data"
    }
   ],
   "source": [
    "# Compute the correlation matrix\n",
    "corr_matrix = df_numerical.corr()\n",
    "\n",
    "plt.figure(figsize=(12, 10))\n",
    "sns.heatmap(corr_matrix, annot=True, cmap='coolwarm', fmt='.2f', linewidths=0.5)\n",
    "plt.title('Correlation Heatmap of IKEA Municipality Dataset')\n",
    "plt.tight_layout()\n",
    "plt.savefig('ikea_correlation_heatmap.png', dpi=300)\n",
    "plt.show()\n"
   ]
  },
  {
   "cell_type": "markdown",
   "id": "c9e0fa8b",
   "metadata": {},
   "source": [
    "From Correlation Heatmap we can see that all variables are correlated to each other, Infrastructure having slight positive correlation and Border having a slight negative correlation.We should choose either one of the variables or one combining with Border and Infrastructure.However PCA handles correlation , combining correlated variables into uncorrelated components "
   ]
  },
  {
   "cell_type": "code",
   "execution_count": 28,
   "id": "71856661",
   "metadata": {},
   "outputs": [],
   "source": [
    "\n",
    "# Step 7: Normalize the data\n",
    "scaler = StandardScaler()\n",
    "df_scaled = scaler.fit_transform(df_numerical)\n",
    "\n"
   ]
  },
  {
   "cell_type": "markdown",
   "id": "88cda860",
   "metadata": {},
   "source": [
    "## Appply PCA"
   ]
  },
  {
   "cell_type": "code",
   "execution_count": 29,
   "id": "94b24a09",
   "metadata": {},
   "outputs": [],
   "source": [
    "\n",
    "# Step 8: Apply PCA to retain 95% of variance\n",
    "pca = PCA(n_components=0.95)\n",
    "df_pca = pca.fit_transform(df_scaled)\n",
    "\n",
    "\n"
   ]
  },
  {
   "cell_type": "markdown",
   "id": "bc4d043a",
   "metadata": {},
   "source": [
    "PCA helps reduce dimensionality which is used to determine clusters"
   ]
  },
  {
   "cell_type": "markdown",
   "id": "005b1bd7",
   "metadata": {},
   "source": [
    "## Determine Optimal clusters"
   ]
  },
  {
   "cell_type": "code",
   "execution_count": 30,
   "id": "ae9fedab",
   "metadata": {},
   "outputs": [
    {
     "data": {
      "image/png": "[encoded data removed]",
      "text/plain": [
       "<Figure size 1000x500 with 1 Axes>"
      ]
     },
     "metadata": {},
     "output_type": "display_data"
    }
   ],
   "source": [
    "\n",
    "# Step 9: Elbow method to determine optimal clusters\n",
    "wcss = []\n",
    "for i in range(1, 11):\n",
    "    kmeans = KMeans(n_clusters=i, init='k-means++', max_iter=300, n_init=10, random_state=0)\n",
    "    kmeans.fit(df_pca)\n",
    "    wcss.append(kmeans.inertia_)\n",
    "\n",
    "plt.figure(figsize=(10, 5))\n",
    "plt.plot(range(1, 11), wcss, marker='o')\n",
    "plt.title('Elbow Method')\n",
    "plt.xlabel('Number of clusters')\n",
    "plt.ylabel('WCSS')\n",
    "plt.grid(True)\n",
    "plt.show()\n"
   ]
  },
  {
   "cell_type": "markdown",
   "id": "2f35a9ab",
   "metadata": {},
   "source": [
    "optimal clusters as seen from the plot is at 4 , where the elbow forms. The intra cluster variation decreases from point 4 , hence this should be the optimum no of clusters with which kmeans should be applied to fin clusters"
   ]
  },
  {
   "cell_type": "markdown",
   "id": "1512a9d8",
   "metadata": {},
   "source": [
    "## Applying KMeans with 4 clusters"
   ]
  },
  {
   "cell_type": "code",
   "execution_count": 31,
   "id": "7c7d162d",
   "metadata": {},
   "outputs": [],
   "source": [
    "\n",
    "# Step 10: Apply KMeans with 4 clusters\n",
    "kmeans = KMeans(n_clusters=4, init='k-means++', max_iter=300, n_init=10, random_state=0)\n",
    "df['Cluster'] = kmeans.fit_predict(df_pca)\n"
   ]
  },
  {
   "cell_type": "code",
   "execution_count": 32,
   "id": "e79aafe3",
   "metadata": {},
   "outputs": [
    {
     "data": {
      "application/vnd.microsoft.datawrangler.viewer.v0+json": {
       "columns": [
        {
         "name": "index",
         "rawType": "int64",
         "type": "integer"
        },
        {
         "name": "Kommun_code",
         "rawType": "int64",
         "type": "integer"
        },
        {
         "name": "Year",
         "rawType": "int64",
         "type": "integer"
        },
        {
         "name": "Kommun_name",
         "rawType": "object",
         "type": "string"
        },
        {
         "name": "Revenue",
         "rawType": "int64",
         "type": "integer"
        },
        {
         "name": "Employee",
         "rawType": "int64",
         "type": "integer"
        },
        {
         "name": "Population",
         "rawType": "int64",
         "type": "integer"
        },
        {
         "name": "Population_University",
         "rawType": "int64",
         "type": "integer"
        },
        {
         "name": "Percent_University",
         "rawType": "float64",
         "type": "float"
        },
        {
         "name": "Productivity",
         "rawType": "float64",
         "type": "float"
        },
        {
         "name": "SalesIndex",
         "rawType": "float64",
         "type": "float"
        },
        {
         "name": "Infrast",
         "rawType": "int64",
         "type": "integer"
        },
        {
         "name": "Border",
         "rawType": "int64",
         "type": "integer"
        },
        {
         "name": "Cluster",
         "rawType": "int32",
         "type": "integer"
        }
       ],
       "ref": "bf6a65ab-0e2c-405b-9b45-3fc4908d7745",
       "rows": [
        [
         "0",
         "2583",
         "2010",
         "Haparanda",
         "1078",
         "276",
         "10059",
         "719",
         "0.07147828",
         "195.74174",
         "111.075774",
         "0",
         "1",
         "3"
        ],
        [
         "1",
         "880",
         "2010",
         "Kalmar",
         "3790",
         "1621",
         "62815",
         "8716",
         "0.13875667",
         "117.17365",
         "390.516869",
         "0",
         "0",
         "0"
        ],
        [
         "2",
         "1780",
         "2010",
         "Karlstad",
         "4560",
         "1910",
         "85753",
         "13308",
         "0.15518991",
         "119.64794",
         "469.856708",
         "0",
         "0",
         "0"
        ],
        [
         "3",
         "114",
         "2010",
         "Upplands Väsby",
         "1366",
         "708",
         "39289",
         "4419",
         "0.11247423",
         "96.69215",
         "140.750935",
         "0",
         "0",
         "0"
        ],
        [
         "4",
         "115",
         "2010",
         "Vallentuna",
         "171",
         "99",
         "30114",
         "3843",
         "0.12761506",
         "86.56347",
         "17.619627",
         "0",
         "0",
         "0"
        ]
       ],
       "shape": {
        "columns": 13,
        "rows": 5
       }
      },
      "text/html": [
       "<div>\n",
       "<style scoped>\n",
       "    .dataframe tbody tr th:only-of-type {\n",
       "        vertical-align: middle;\n",
       "    }\n",
       "\n",
       "    .dataframe tbody tr th {\n",
       "        vertical-align: top;\n",
       "    }\n",
       "\n",
       "    .dataframe thead th {\n",
       "        text-align: right;\n",
       "    }\n",
       "</style>\n",
       "<table border=\"1\" class=\"dataframe\">\n",
       "  <thead>\n",
       "    <tr style=\"text-align: right;\">\n",
       "      <th></th>\n",
       "      <th>Kommun_code</th>\n",
       "      <th>Year</th>\n",
       "      <th>Kommun_name</th>\n",
       "      <th>Revenue</th>\n",
       "      <th>Employee</th>\n",
       "      <th>Population</th>\n",
       "      <th>Population_University</th>\n",
       "      <th>Percent_University</th>\n",
       "      <th>Productivity</th>\n",
       "      <th>SalesIndex</th>\n",
       "      <th>Infrast</th>\n",
       "      <th>Border</th>\n",
       "      <th>Cluster</th>\n",
       "    </tr>\n",
       "  </thead>\n",
       "  <tbody>\n",
       "    <tr>\n",
       "      <th>0</th>\n",
       "      <td>2583</td>\n",
       "      <td>2010</td>\n",
       "      <td>Haparanda</td>\n",
       "      <td>1078</td>\n",
       "      <td>276</td>\n",
       "      <td>10059</td>\n",
       "      <td>719</td>\n",
       "      <td>0.071478</td>\n",
       "      <td>195.74174</td>\n",
       "      <td>111.075774</td>\n",
       "      <td>0</td>\n",
       "      <td>1</td>\n",
       "      <td>3</td>\n",
       "    </tr>\n",
       "    <tr>\n",
       "      <th>1</th>\n",
       "      <td>880</td>\n",
       "      <td>2010</td>\n",
       "      <td>Kalmar</td>\n",
       "      <td>3790</td>\n",
       "      <td>1621</td>\n",
       "      <td>62815</td>\n",
       "      <td>8716</td>\n",
       "      <td>0.138757</td>\n",
       "      <td>117.17365</td>\n",
       "      <td>390.516869</td>\n",
       "      <td>0</td>\n",
       "      <td>0</td>\n",
       "      <td>0</td>\n",
       "    </tr>\n",
       "    <tr>\n",
       "      <th>2</th>\n",
       "      <td>1780</td>\n",
       "      <td>2010</td>\n",
       "      <td>Karlstad</td>\n",
       "      <td>4560</td>\n",
       "      <td>1910</td>\n",
       "      <td>85753</td>\n",
       "      <td>13308</td>\n",
       "      <td>0.155190</td>\n",
       "      <td>119.64794</td>\n",
       "      <td>469.856708</td>\n",
       "      <td>0</td>\n",
       "      <td>0</td>\n",
       "      <td>0</td>\n",
       "    </tr>\n",
       "    <tr>\n",
       "      <th>3</th>\n",
       "      <td>114</td>\n",
       "      <td>2010</td>\n",
       "      <td>Upplands Väsby</td>\n",
       "      <td>1366</td>\n",
       "      <td>708</td>\n",
       "      <td>39289</td>\n",
       "      <td>4419</td>\n",
       "      <td>0.112474</td>\n",
       "      <td>96.69215</td>\n",
       "      <td>140.750935</td>\n",
       "      <td>0</td>\n",
       "      <td>0</td>\n",
       "      <td>0</td>\n",
       "    </tr>\n",
       "    <tr>\n",
       "      <th>4</th>\n",
       "      <td>115</td>\n",
       "      <td>2010</td>\n",
       "      <td>Vallentuna</td>\n",
       "      <td>171</td>\n",
       "      <td>99</td>\n",
       "      <td>30114</td>\n",
       "      <td>3843</td>\n",
       "      <td>0.127615</td>\n",
       "      <td>86.56347</td>\n",
       "      <td>17.619627</td>\n",
       "      <td>0</td>\n",
       "      <td>0</td>\n",
       "      <td>0</td>\n",
       "    </tr>\n",
       "  </tbody>\n",
       "</table>\n",
       "</div>"
      ],
      "text/plain": [
       "   Kommun_code  Year     Kommun_name  Revenue  Employee  Population  \\\n",
       "0         2583  2010       Haparanda     1078       276       10059   \n",
       "1          880  2010          Kalmar     3790      1621       62815   \n",
       "2         1780  2010        Karlstad     4560      1910       85753   \n",
       "3          114  2010  Upplands Väsby     1366       708       39289   \n",
       "4          115  2010      Vallentuna      171        99       30114   \n",
       "\n",
       "   Population_University  Percent_University  Productivity  SalesIndex  \\\n",
       "0                    719            0.071478     195.74174  111.075774   \n",
       "1                   8716            0.138757     117.17365  390.516869   \n",
       "2                  13308            0.155190     119.64794  469.856708   \n",
       "3                   4419            0.112474      96.69215  140.750935   \n",
       "4                   3843            0.127615      86.56347   17.619627   \n",
       "\n",
       "   Infrast  Border  Cluster  \n",
       "0        0       1        3  \n",
       "1        0       0        0  \n",
       "2        0       0        0  \n",
       "3        0       0        0  \n",
       "4        0       0        0  "
      ]
     },
     "execution_count": 32,
     "metadata": {},
     "output_type": "execute_result"
    }
   ],
   "source": [
    "df.head()"
   ]
  },
  {
   "cell_type": "code",
   "execution_count": 33,
   "id": "9deffc18",
   "metadata": {},
   "outputs": [
    {
     "data": {
      "application/vnd.plotly.v1+json": {
       "config": {
        "plotlyServerURL": "https://plot.ly"
       },
       "data": [
        {
         "hovertemplate": "<b>%{hovertext}</b><br><br>color=3<br>Principal Component 1=%{x}<br>Principal Component 2=%{y}<extra></extra>",
         "hovertext": [
          "Haparanda",
          "Tanum",
          "Dals-Ed",
          "Strömstad",
          "Eda",
          "Torsby",
          "Årjäng",
          "Arvika"
         ],
         "legendgroup": "3",
         "marker": {
          "color": "#636efa",
          "opacity": 0.7,
          "size": 8,
          "symbol": "circle"
         },
         "mode": "markers",
         "name": "3",
         "orientation": "v",
         "showlegend": true,
         "type": "scatter",
         "x": {
          "bdata": "plqBf8985L90x8ZPTM3ov3Fbm/nWwey/kS6O6X9C4r89GJagUDfov3pt8A5xd+m/qrbHdaXn6L+HJQUaDevhvw==",
          "dtype": "f8"
         },
         "xaxis": "x",
         "y": {
          "bdata": "cv/lUN7TE0B2Q5fgmsMTQP4kh8lMuxNAVfdwfwfaE0AT62Lec8gTQJmCW7afwRNAXVFiQj3FE0BjIjp9CNITQA==",
          "dtype": "f8"
         },
         "yaxis": "y"
        },
        {
         "hovertemplate": "<b>%{hovertext}</b><br><br>color=0<br>Principal Component 1=%{x}<br>Principal Component 2=%{y}<extra></extra>",
         "hovertext": [
          "Kalmar",
          "Karlstad",
          "Upplands Väsby",
          "Vallentuna",
          "Österåker",
          "Värmdö",
          "Järfälla",
          "Ekerö",
          "Huddinge",
          "Botkyrka",
          "Salem",
          "Haninge",
          "Tyresö",
          "Upplands-Bro",
          "Nykvarn",
          "Täby",
          "Danderyd",
          "Sollentuna",
          "Södertälje",
          "Nacka",
          "Sundbyberg",
          "Solna",
          "Lidingö",
          "Vaxholm",
          "Norrtälje",
          "Sigtuna",
          "Nynäshamn",
          "Håbo",
          "Älvkarleby",
          "Heby",
          "Tierp",
          "Uppsala",
          "Enköping",
          "Östhammar",
          "Vingåker",
          "Gnesta",
          "Nyköping",
          "Flen",
          "Katrineholm",
          "Eskilstuna",
          "Strängnäs",
          "Trosa",
          "Ödeshög",
          "Ydre",
          "Kinda",
          "Boxholm",
          "Åtvidaberg",
          "Finspång",
          "Valdemarsvik",
          "Linköping",
          "Norrköping",
          "Söderköping",
          "Motala",
          "Vadstena",
          "Mjölby",
          "Aneby",
          "Gnosjö",
          "Mullsjö",
          "Habo",
          "Gislaved",
          "Vaggeryd",
          "Jönköping",
          "Nässjö",
          "Värnamo",
          "Sävsjö",
          "Vetlanda",
          "Eksjö",
          "Tranås",
          "Uppvidinge",
          "Lessebo",
          "Tingsryd",
          "Alvesta",
          "Älmhult",
          "Markaryd",
          "Växjö",
          "Ljungby",
          "Högsby",
          "Torsås",
          "Mörbylånga",
          "Hultsfred",
          "Mönsterås",
          "Emmaboda",
          "Nybro",
          "Oskarshamn",
          "Västervik",
          "Vimmerby",
          "Borgholm",
          "Olofström",
          "Karlskrona",
          "Sölvesborg",
          "Svalöv",
          "Staffanstorp",
          "Burlöv",
          "Vellinge",
          "Östra Göinge",
          "Örkelljunga",
          "Bjuv",
          "Kävlinge",
          "Lomma",
          "Svedala",
          "Skurup",
          "Sjöbo",
          "Hörby",
          "Höör",
          "Tomelilla",
          "Bromölla",
          "Osby",
          "Perstorp",
          "Klippan",
          "Åstorp",
          "Båstad",
          "Lund",
          "Landskrona",
          "Höganäs",
          "Eslöv",
          "Ystad",
          "Kristianstad",
          "Simrishamn",
          "Ängelholm",
          "Hässleholm",
          "Hylte",
          "Halmstad",
          "Laholm",
          "Falkenberg",
          "Varberg",
          "Kungsbacka",
          "Härryda",
          "Partille",
          "Öckerö",
          "Stenungsund",
          "Tjörn",
          "Orust",
          "Sotenäs",
          "Munkedal",
          "Färgelanda",
          "Ale",
          "Lerum",
          "Vårgårda",
          "Bollebygd",
          "Grästorp",
          "Essunga",
          "Karlsborg",
          "Gullspång",
          "Tranemo",
          "Bengtsfors",
          "Mellerud",
          "Lilla Edet",
          "Mark",
          "Svenljunga",
          "Herrljunga",
          "Vara",
          "Götene",
          "Tibro",
          "Töreboda",
          "Mölndal",
          "Kungälv",
          "Uddevalla",
          "Vänersborg",
          "Trollhättan",
          "Alingsås",
          "Borås",
          "Ulricehamn",
          "Åmål",
          "Mariestad",
          "Lidköping",
          "Skara",
          "Skövde",
          "Hjo",
          "Tidaholm",
          "Falköping",
          "Kil",
          "Storfors",
          "Hammarö",
          "Munkfors",
          "Forshaga",
          "Grums",
          "Sunne",
          "Kristinehamn",
          "Filipstad",
          "Hagfors",
          "Säffle",
          "Lekeberg",
          "Laxå",
          "Degerfors",
          "Hällefors",
          "Ljusnarsberg",
          "Örebro",
          "Kumla",
          "Askersund"
         ],
         "legendgroup": "0",
         "marker": {
          "color": "#EF553B",
          "opacity": 0.7,
          "size": 8,
          "symbol": "circle"
         },
         "mode": "markers",
         "name": "0",
         "orientation": "v",
         "showlegend": true,
         "type": "scatter",
         "x": {
          "bdata": "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",
          "dtype": "f8"
         },
         "xaxis": "x",
         "y": {
          "bdata": "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",
          "dtype": "f8"
         },
         "yaxis": "y"
        },
        {
         "hovertemplate": "<b>%{hovertext}</b><br><br>color=2<br>Principal Component 1=%{x}<br>Principal Component 2=%{y}<extra></extra>",
         "hovertext": [
          "Stockholm"
         ],
         "legendgroup": "2",
         "marker": {
          "color": "#00cc96",
          "opacity": 0.7,
          "size": 8,
          "symbol": "circle"
         },
         "mode": "markers",
         "name": "2",
         "orientation": "v",
         "showlegend": true,
         "type": "scatter",
         "x": {
          "bdata": "i+gqp8G+NUA=",
          "dtype": "f8"
         },
         "xaxis": "x",
         "y": {
          "bdata": "GKbjZccc7z8=",
          "dtype": "f8"
         },
         "yaxis": "y"
        },
        {
         "hovertemplate": "<b>%{hovertext}</b><br><br>color=1<br>Principal Component 1=%{x}<br>Principal Component 2=%{y}<extra></extra>",
         "hovertext": [
          "Oxelösund",
          "Gotland",
          "Ronneby",
          "Karlshamn",
          "Malmö",
          "Helsingborg",
          "Trelleborg",
          "Lysekil",
          "Hallsberg"
         ],
         "legendgroup": "1",
         "marker": {
          "color": "#ab63fa",
          "opacity": 0.7,
          "size": 8,
          "symbol": "circle"
         },
         "mode": "markers",
         "name": "1",
         "orientation": "v",
         "showlegend": true,
         "type": "scatter",
         "x": {
          "bdata": "pPtqWfnz5z8ykvuT2iX6P364MRN7Q/E/D+19sFgz8j895WOggj8dQMXLWQOjhQtArBePTykF9D/51NYeRS/qP3xeOxTkSOk/",
          "dtype": "f8"
         },
         "xaxis": "x",
         "y": {
          "bdata": "FmMBwXGR4r/ncI4Rm4zgv258FJ4g0OG/8wwDVIOs4b8wdyOPEpm4vxLFHPvcEdi/OPPYt19/4b+D/C3t7Gjiv3ygykPtgOK/",
          "dtype": "f8"
         },
         "yaxis": "y"
        }
       ],
       "layout": {
        "height": 600,
        "legend": {
         "title": {
          "text": "color"
         },
         "tracegroupgap": 0
        },
        "template": {
         "data": {
          "bar": [
           {
            "error_x": {
             "color": "#2a3f5f"
            },
            "error_y": {
             "color": "#2a3f5f"
            },
            "marker": {
             "line": {
              "color": "#E5ECF6",
              "width": 0.5
             },
             "pattern": {
              "fillmode": "overlay",
              "size": 10,
              "solidity": 0.2
             }
            },
            "type": "bar"
           }
          ],
          "barpolar": [
           {
            "marker": {
             "line": {
              "color": "#E5ECF6",
              "width": 0.5
             },
             "pattern": {
              "fillmode": "overlay",
              "size": 10,
              "solidity": 0.2
             }
            },
            "type": "barpolar"
           }
          ],
          "carpet": [
           {
            "aaxis": {
             "endlinecolor": "#2a3f5f",
             "gridcolor": "white",
             "linecolor": "white",
             "minorgridcolor": "white",
             "startlinecolor": "#2a3f5f"
            },
            "baxis": {
             "endlinecolor": "#2a3f5f",
             "gridcolor": "white",
             "linecolor": "white",
             "minorgridcolor": "white",
             "startlinecolor": "#2a3f5f"
            },
            "type": "carpet"
           }
          ],
          "choropleth": [
           {
            "colorbar": {
             "outlinewidth": 0,
             "ticks": ""
            },
            "type": "choropleth"
           }
          ],
          "contour": [
           {
            "colorbar": {
             "outlinewidth": 0,
             "ticks": ""
            },
            "colorscale": [
             [
              0,
              "#0d0887"
             ],
             [
              0.1111111111111111,
              "#46039f"
             ],
             [
              0.2222222222222222,
              "#7201a8"
             ],
             [
              0.3333333333333333,
              "#9c179e"
             ],
             [
              0.4444444444444444,
              "#bd3786"
             ],
             [
              0.5555555555555556,
              "#d8576b"
             ],
             [
              0.6666666666666666,
              "#ed7953"
             ],
             [
              0.7777777777777778,
              "#fb9f3a"
             ],
             [
              0.8888888888888888,
              "#fdca26"
             ],
             [
              1,
              "#f0f921"
             ]
            ],
            "type": "contour"
           }
          ],
          "contourcarpet": [
           {
            "colorbar": {
             "outlinewidth": 0,
             "ticks": ""
            },
            "type": "contourcarpet"
           }
          ],
          "heatmap": [
           {
            "colorbar": {
             "outlinewidth": 0,
             "ticks": ""
            },
            "colorscale": [
             [
              0,
              "#0d0887"
             ],
             [
              0.1111111111111111,
              "#46039f"
             ],
             [
              0.2222222222222222,
              "#7201a8"
             ],
             [
              0.3333333333333333,
              "#9c179e"
             ],
             [
              0.4444444444444444,
              "#bd3786"
             ],
             [
              0.5555555555555556,
              "#d8576b"
             ],
             [
              0.6666666666666666,
              "#ed7953"
             ],
             [
              0.7777777777777778,
              "#fb9f3a"
             ],
             [
              0.8888888888888888,
              "#fdca26"
             ],
             [
              1,
              "#f0f921"
             ]
            ],
            "type": "heatmap"
           }
          ],
          "histogram": [
           {
            "marker": {
             "pattern": {
              "fillmode": "overlay",
              "size": 10,
              "solidity": 0.2
             }
            },
            "type": "histogram"
           }
          ],
          "histogram2d": [
           {
            "colorbar": {
             "outlinewidth": 0,
             "ticks": ""
            },
            "colorscale": [
             [
              0,
              "#0d0887"
             ],
             [
              0.1111111111111111,
              "#46039f"
             ],
             [
              0.2222222222222222,
              "#7201a8"
             ],
             [
              0.3333333333333333,
              "#9c179e"
             ],
             [
              0.4444444444444444,
              "#bd3786"
             ],
             [
              0.5555555555555556,
              "#d8576b"
             ],
             [
              0.6666666666666666,
              "#ed7953"
             ],
             [
              0.7777777777777778,
              "#fb9f3a"
             ],
             [
              0.8888888888888888,
              "#fdca26"
             ],
             [
              1,
              "#f0f921"
             ]
            ],
            "type": "histogram2d"
           }
          ],
          "histogram2dcontour": [
           {
            "colorbar": {
             "outlinewidth": 0,
             "ticks": ""
            },
            "colorscale": [
             [
              0,
              "#0d0887"
             ],
             [
              0.1111111111111111,
              "#46039f"
             ],
             [
              0.2222222222222222,
              "#7201a8"
             ],
             [
              0.3333333333333333,
              "#9c179e"
             ],
             [
              0.4444444444444444,
              "#bd3786"
             ],
             [
              0.5555555555555556,
              "#d8576b"
             ],
             [
              0.6666666666666666,
              "#ed7953"
             ],
             [
              0.7777777777777778,
              "#fb9f3a"
             ],
             [
              0.8888888888888888,
              "#fdca26"
             ],
             [
              1,
              "#f0f921"
             ]
            ],
            "type": "histogram2dcontour"
           }
          ],
          "mesh3d": [
           {
            "colorbar": {
             "outlinewidth": 0,
             "ticks": ""
            },
            "type": "mesh3d"
           }
          ],
          "parcoords": [
           {
            "line": {
             "colorbar": {
              "outlinewidth": 0,
              "ticks": ""
             }
            },
            "type": "parcoords"
           }
          ],
          "pie": [
           {
            "automargin": true,
            "type": "pie"
           }
          ],
          "scatter": [
           {
            "fillpattern": {
             "fillmode": "overlay",
             "size": 10,
             "solidity": 0.2
            },
            "type": "scatter"
           }
          ],
          "scatter3d": [
           {
            "line": {
             "colorbar": {
              "outlinewidth": 0,
              "ticks": ""
             }
            },
            "marker": {
             "colorbar": {
              "outlinewidth": 0,
              "ticks": ""
             }
            },
            "type": "scatter3d"
           }
          ],
          "scattercarpet": [
           {
            "marker": {
             "colorbar": {
              "outlinewidth": 0,
              "ticks": ""
             }
            },
            "type": "scattercarpet"
           }
          ],
          "scattergeo": [
           {
            "marker": {
             "colorbar": {
              "outlinewidth": 0,
              "ticks": ""
             }
            },
            "type": "scattergeo"
           }
          ],
          "scattergl": [
           {
            "marker": {
             "colorbar": {
              "outlinewidth": 0,
              "ticks": ""
             }
            },
            "type": "scattergl"
           }
          ],
          "scattermap": [
           {
            "marker": {
             "colorbar": {
              "outlinewidth": 0,
              "ticks": ""
             }
            },
            "type": "scattermap"
           }
          ],
          "scattermapbox": [
           {
            "marker": {
             "colorbar": {
              "outlinewidth": 0,
              "ticks": ""
             }
            },
            "type": "scattermapbox"
           }
          ],
          "scatterpolar": [
           {
            "marker": {
             "colorbar": {
              "outlinewidth": 0,
              "ticks": ""
             }
            },
            "type": "scatterpolar"
           }
          ],
          "scatterpolargl": [
           {
            "marker": {
             "colorbar": {
              "outlinewidth": 0,
              "ticks": ""
             }
            },
            "type": "scatterpolargl"
           }
          ],
          "scatterternary": [
           {
            "marker": {
             "colorbar": {
              "outlinewidth": 0,
              "ticks": ""
             }
            },
            "type": "scatterternary"
           }
          ],
          "surface": [
           {
            "colorbar": {
             "outlinewidth": 0,
             "ticks": ""
            },
            "colorscale": [
             [
              0,
              "#0d0887"
             ],
             [
              0.1111111111111111,
              "#46039f"
             ],
             [
              0.2222222222222222,
              "#7201a8"
             ],
             [
              0.3333333333333333,
              "#9c179e"
             ],
             [
              0.4444444444444444,
              "#bd3786"
             ],
             [
              0.5555555555555556,
              "#d8576b"
             ],
             [
              0.6666666666666666,
              "#ed7953"
             ],
             [
              0.7777777777777778,
              "#fb9f3a"
             ],
             [
              0.8888888888888888,
              "#fdca26"
             ],
             [
              1,
              "#f0f921"
             ]
            ],
            "type": "surface"
           }
          ],
          "table": [
           {
            "cells": {
             "fill": {
              "color": "#EBF0F8"
             },
             "line": {
              "color": "white"
             }
            },
            "header": {
             "fill": {
              "color": "#C8D4E3"
             },
             "line": {
              "color": "white"
             }
            },
            "type": "table"
           }
          ]
         },
         "layout": {
          "annotationdefaults": {
           "arrowcolor": "#2a3f5f",
           "arrowhead": 0,
           "arrowwidth": 1
          },
          "autotypenumbers": "strict",
          "coloraxis": {
           "colorbar": {
            "outlinewidth": 0,
            "ticks": ""
           }
          },
          "colorscale": {
           "diverging": [
            [
             0,
             "#8e0152"
            ],
            [
             0.1,
             "#c51b7d"
            ],
            [
             0.2,
             "#de77ae"
            ],
            [
             0.3,
             "#f1b6da"
            ],
            [
             0.4,
             "#fde0ef"
            ],
            [
             0.5,
             "#f7f7f7"
            ],
            [
             0.6,
             "#e6f5d0"
            ],
            [
             0.7,
             "#b8e186"
            ],
            [
             0.8,
             "#7fbc41"
            ],
            [
             0.9,
             "#4d9221"
            ],
            [
             1,
             "#276419"
            ]
           ],
           "sequential": [
            [
             0,
             "#0d0887"
            ],
            [
             0.1111111111111111,
             "#46039f"
            ],
            [
             0.2222222222222222,
             "#7201a8"
            ],
            [
             0.3333333333333333,
             "#9c179e"
            ],
            [
             0.4444444444444444,
             "#bd3786"
            ],
            [
             0.5555555555555556,
             "#d8576b"
            ],
            [
             0.6666666666666666,
             "#ed7953"
            ],
            [
             0.7777777777777778,
             "#fb9f3a"
            ],
            [
             0.8888888888888888,
             "#fdca26"
            ],
            [
             1,
             "#f0f921"
            ]
           ],
           "sequentialminus": [
            [
             0,
             "#0d0887"
            ],
            [
             0.1111111111111111,
             "#46039f"
            ],
            [
             0.2222222222222222,
             "#7201a8"
            ],
            [
             0.3333333333333333,
             "#9c179e"
            ],
            [
             0.4444444444444444,
             "#bd3786"
            ],
            [
             0.5555555555555556,
             "#d8576b"
            ],
            [
             0.6666666666666666,
             "#ed7953"
            ],
            [
             0.7777777777777778,
             "#fb9f3a"
            ],
            [
             0.8888888888888888,
             "#fdca26"
            ],
            [
             1,
             "#f0f921"
            ]
           ]
          },
          "colorway": [
           "#636efa",
           "#EF553B",
           "#00cc96",
           "#ab63fa",
           "#FFA15A",
           "#19d3f3",
           "#FF6692",
           "#B6E880",
           "#FF97FF",
           "#FECB52"
          ],
          "font": {
           "color": "#2a3f5f"
          },
          "geo": {
           "bgcolor": "white",
           "lakecolor": "white",
           "landcolor": "#E5ECF6",
           "showlakes": true,
           "showland": true,
           "subunitcolor": "white"
          },
          "hoverlabel": {
           "align": "left"
          },
          "hovermode": "closest",
          "mapbox": {
           "style": "light"
          },
          "paper_bgcolor": "white",
          "plot_bgcolor": "#E5ECF6",
          "polar": {
           "angularaxis": {
            "gridcolor": "white",
            "linecolor": "white",
            "ticks": ""
           },
           "bgcolor": "#E5ECF6",
           "radialaxis": {
            "gridcolor": "white",
            "linecolor": "white",
            "ticks": ""
           }
          },
          "scene": {
           "xaxis": {
            "backgroundcolor": "#E5ECF6",
            "gridcolor": "white",
            "gridwidth": 2,
            "linecolor": "white",
            "showbackground": true,
            "ticks": "",
            "zerolinecolor": "white"
           },
           "yaxis": {
            "backgroundcolor": "#E5ECF6",
            "gridcolor": "white",
            "gridwidth": 2,
            "linecolor": "white",
            "showbackground": true,
            "ticks": "",
            "zerolinecolor": "white"
           },
           "zaxis": {
            "backgroundcolor": "#E5ECF6",
            "gridcolor": "white",
            "gridwidth": 2,
            "linecolor": "white",
            "showbackground": true,
            "ticks": "",
            "zerolinecolor": "white"
           }
          },
          "shapedefaults": {
           "line": {
            "color": "#2a3f5f"
           }
          },
          "ternary": {
           "aaxis": {
            "gridcolor": "white",
            "linecolor": "white",
            "ticks": ""
           },
           "baxis": {
            "gridcolor": "white",
            "linecolor": "white",
            "ticks": ""
           },
           "bgcolor": "#E5ECF6",
           "caxis": {
            "gridcolor": "white",
            "linecolor": "white",
            "ticks": ""
           }
          },
          "title": {
           "x": 0.05
          },
          "xaxis": {
           "automargin": true,
           "gridcolor": "white",
           "linecolor": "white",
           "ticks": "",
           "title": {
            "standoff": 15
           },
           "zerolinecolor": "white",
           "zerolinewidth": 2
          },
          "yaxis": {
           "automargin": true,
           "gridcolor": "white",
           "linecolor": "white",
           "ticks": "",
           "title": {
            "standoff": 15
           },
           "zerolinecolor": "white",
           "zerolinewidth": 2
          }
         }
        },
        "title": {
         "text": "Clusters of Municipalities (PCA)"
        },
        "width": 800,
        "xaxis": {
         "anchor": "y",
         "domain": [
          0,
          1
         ],
         "title": {
          "text": "Principal Component 1"
         }
        },
        "yaxis": {
         "anchor": "x",
         "domain": [
          0,
          1
         ],
         "title": {
          "text": "Principal Component 2"
         }
        }
       }
      }
     },
     "metadata": {},
     "output_type": "display_data"
    }
   ],
   "source": [
    "\n",
    "import plotly.express as px\n",
    "# Assume df already has 'Kommun_name' and 'Cluster' columns\n",
    "fig = px.scatter(\n",
    "    x=df_pca[:, 0],\n",
    "    y=df_pca[:, 1],\n",
    "    color=df['Cluster'].astype(str),\n",
    "    hover_name=df['Kommun_name'],\n",
    "    labels={'x': 'Principal Component 1', 'y': 'Principal Component 2'},\n",
    "    title='Clusters of Municipalities (PCA)'\n",
    ")\n",
    "\n",
    "fig.update_traces(marker=dict(size=8, opacity=0.7), selector=dict(mode='markers'))\n",
    "fig.update_layout(width=800, height=600)\n",
    "fig.show()\n"
   ]
  },
  {
   "cell_type": "markdown",
   "id": "ed9ee8cd",
   "metadata": {},
   "source": [
    "Well distinct clusters formed"
   ]
  },
  {
   "cell_type": "markdown",
   "id": "cca469e5",
   "metadata": {},
   "source": [
    "## Finding location for ikea store"
   ]
  },
  {
   "cell_type": "code",
   "execution_count": 34,
   "id": "e2d8d1e1",
   "metadata": {},
   "outputs": [
    {
     "name": "stdout",
     "output_type": "stream",
     "text": [
      "Cluster Summary:\n",
      "               Revenue     Population  Population_University  Infrast  Border\n",
      "Cluster                                                                     \n",
      "0          821.894180   29521.904762            3598.751323      0.0     0.0\n",
      "1         2317.222222   69779.333333            9496.111111      1.0     0.0\n",
      "2        32897.000000  847073.000000          191585.000000      1.0     0.0\n",
      "3          561.625000   11969.500000             928.500000      0.0     1.0\n"
     ]
    },
    {
     "name": "stderr",
     "output_type": "stream",
     "text": [
      "C:\\Users\\ajaxc\\AppData\\Local\\Temp\\ipykernel_17736\\1899096538.py:2: SettingWithCopyWarning:\n",
      "\n",
      "\n",
      "A value is trying to be set on a copy of a slice from a DataFrame.\n",
      "Try using .loc[row_indexer,col_indexer] = value instead\n",
      "\n",
      "See the caveats in the documentation: https://pandas.pydata.org/pandas-docs/stable/user_guide/indexing.html#returning-a-view-versus-a-copy\n",
      "\n"
     ]
    }
   ],
   "source": [
    "# Step 12: Explore clusters\n",
    "df_numerical['Cluster'] = df['Cluster']\n",
    "cluster_summary = df_numerical.groupby('Cluster').mean()\n",
    "print(\"Cluster Summary:\\n\", cluster_summary)"
   ]
  },
  {
   "cell_type": "markdown",
   "id": "efb0de1c",
   "metadata": {},
   "source": [
    "cluster_summary helps us understand statistics according to which we can choose clusters"
   ]
  },
  {
   "cell_type": "code",
   "execution_count": 35,
   "id": "42f8d4cd",
   "metadata": {},
   "outputs": [
    {
     "name": "stdout",
     "output_type": "stream",
     "text": [
      "Top 3 Candidates for New IKEA Stores:\n",
      "      Kommun_code  Year Kommun_name  Revenue  Employee  Population  \\\n",
      "9            126  2010    Huddinge     7153      2374       97453   \n",
      "53           581  2010  Norrköping     4438      2630      130050   \n",
      "132         1382  2010  Falkenberg     4395      2035       41008   \n",
      "\n",
      "     Population_University  Percent_University  Productivity  SalesIndex  \\\n",
      "9                    12795            0.131294     151.00150  737.036192   \n",
      "53                   14526            0.111696      84.56785  457.285981   \n",
      "132                   3396            0.082813     108.23513  452.855314   \n",
      "\n",
      "     Infrast  Border  Cluster  \n",
      "9          0       0        0  \n",
      "53         0       0        0  \n",
      "132        0       0        0  \n"
     ]
    }
   ],
   "source": [
    "\n",
    "# Step 13: Filter out municipalities with IKEA\n",
    "\n",
    "excluded_municipalities = ['Uppsala', 'Örebro','Linköping','Jönköping','Borlänge', 'Gävle', 'Göteborg',\n",
    "'Haparanda', 'Helsingborg', 'Kalmar', 'Karlstad', 'Malmö', 'Stockholm', 'Sundsvall',\n",
    "'Uddevalla', 'Umeå', 'Västerås', 'Älmhult','Järfälla' ]   # as they have ikea\n",
    "df_filtered = df[\n",
    "    df['Cluster'].isin([0,1]) &\n",
    "    (~df['Kommun_name'].isin(excluded_municipalities))\n",
    "]\n",
    "\n",
    "# Step 14: Suggest top 3 candidates for new IKEA stores\n",
    "top_candidates = df_filtered.nlargest(3, ['Revenue', 'Population'])\n",
    "print(\"Top 3 Candidates for New IKEA Stores:\\n\", top_candidates)\n"
   ]
  },
  {
   "cell_type": "markdown",
   "id": "30437fb4",
   "metadata": {},
   "source": [
    "Choice of clusters = 2 is stockholm and 3 has least revenue and population. Hence we choose 0 and 1.\n",
    "\n",
    "While filtering used Reenue first and then Population as businesses always thrive on the revenue while having a decent population.\n",
    "\n",
    "**Huddinge** is nearby Stockholm bt owing to its high population it will be a good location. I included **Jarfalla** in excluded municipalities which already have ikea as there is an ikea in Barkaby which is very near.**Norrköping** is also a highly populated area , it has an Ikea in Linköping nearby but still an Ikea in Norrköping will be a good idea owing to its population. Of all these **Falkenberg** is the least populated in top 3 however there is  good revenue stream from here and thats why its a great idea.\n",
    "\n",
    "There is still the limitation of distance and non availibilty of all municipalities data. Probably more data could help, however ikea being an innovative company would have already designated stores in best locations and with availiability of more and more data they could open more stores on optimised locations."
   ]
  }
 ],
 "metadata": {
  "kernelspec": {
   "display_name": "Python 3",
   "language": "python",
   "name": "python3"
  },
  "language_info": {
   "codemirror_mode": {
    "name": "ipython",
    "version": 3
   },
   "file_extension": ".py",
   "mimetype": "text/x-python",
   "name": "python",
   "nbconvert_exporter": "python",
   "pygments_lexer": "ipython3",
   "version": "3.11.0"
  }
 },
 "nbformat": 4,
 "nbformat_minor": 5
}
